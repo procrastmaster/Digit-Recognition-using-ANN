{
 "cells": [
  {
   "cell_type": "markdown",
   "metadata": {},
   "source": [
    "# Deep Learning\n",
    "\n",
    "* A tensor is a N dimensional array of data\n",
    "* Rank 0 = scalar, Rank 1 = vector, Rank 2 = matrix "
   ]
  },
  {
   "cell_type": "markdown",
   "metadata": {},
   "source": [
    "# GPU Support"
   ]
  },
  {
   "cell_type": "code",
   "execution_count": 92,
   "metadata": {},
   "outputs": [
    {
     "name": "stdout",
     "output_type": "stream",
     "text": [
      "Tensorflow version is:  2.4.1\n",
      "Number of GPUs available:  0\n",
      "List of physical devices:  [PhysicalDevice(name='/physical_device:CPU:0', device_type='CPU')]\n",
      "Built with CUDA:  True\n"
     ]
    }
   ],
   "source": [
    "import tensorflow as tf\n",
    "print('Tensorflow version is: ', tf.__version__)\n",
    "print('Number of GPUs available: ',len(tf.config.experimental.list_physical_devices('GPU')) )\n",
    "print('List of physical devices: ', tf.config.experimental.list_physical_devices())\n",
    "print('Built with CUDA: ', tf.test.is_built_with_cuda())\n",
    "\n",
    "# using GPU on code:\n",
    "# with tf.device('/GPU:0'):\n",
    "    #insert model building code here"
   ]
  },
  {
   "cell_type": "markdown",
   "metadata": {},
   "source": [
    "# Computer Vision using Deep Learning"
   ]
  },
  {
   "cell_type": "markdown",
   "metadata": {},
   "source": [
    "# ANN (Artificial Neural Network)\n",
    "\n",
    "* Activation function:\n",
    "    * sigmoid has value between 0 and 1, 0 = neuron not firing, 1 = neuron firing \n",
    "    * tanh has value between -1 and 1\n",
    "    * relu is used for hidden layers and sigmoid is used at output layer\n",
    "    * relu helps make the model non-linear\n",
    "    * drawback is vanishing gradients"
   ]
  },
  {
   "cell_type": "code",
   "execution_count": 12,
   "metadata": {},
   "outputs": [],
   "source": [
    "# import libraries\n",
    "\n",
    "import numpy as np\n",
    "import matplotlib.pyplot as plt\n",
    "\n",
    "import tensorflow as tf\n",
    "from tensorflow import keras\n",
    "from imblearn.over_sampling import SMOTE"
   ]
  },
  {
   "cell_type": "code",
   "execution_count": 13,
   "metadata": {},
   "outputs": [
    {
     "data": {
      "text/plain": [
       "5"
      ]
     },
     "execution_count": 13,
     "metadata": {},
     "output_type": "execute_result"
    },
    {
     "data": {
      "image/png": "[encoded data removed]",
      "text/plain": [
       "<Figure size 288x288 with 1 Axes>"
      ]
     },
     "metadata": {
      "needs_background": "light"
     },
     "output_type": "display_data"
    }
   ],
   "source": [
    "# Handling highly imbalanced data\n",
    "    # Method: oversampling minority class using SMOTE (Synthetic Minority Oversampling Technique)\n",
    "        # smote = SMOTE(sampling_strategy='minority')\n",
    "        # x_sm, y_sm = smote.fit_resample(x, y)\n",
    "        # from sklearn.model_selection import train_test_split\n",
    "        # x_train, x_test, y_train, y_test = train_test_split(x_sm, y_sm, test_size=0.2, random_state=15, stratify=y_sm)\n",
    "\n",
    "# import data\n",
    "(x_train, y_train) , (x_test, y_test) = keras.datasets.mnist.load_data()\n",
    "\n",
    "# normalize data for better accuracy of neural network\n",
    "x_train = x_train / 255\n",
    "x_test = x_test / 255\n",
    "\n",
    "# visualize data\n",
    "plt.matshow(x_train[0])\n",
    "y_train[0]"
   ]
  },
  {
   "cell_type": "markdown",
   "metadata": {},
   "source": [
    "# Sequential API"
   ]
  },
  {
   "cell_type": "code",
   "execution_count": 42,
   "metadata": {},
   "outputs": [
    {
     "name": "stdout",
     "output_type": "stream",
     "text": [
      "1875/1875 [==============================] - 4s 2ms/step - loss: 0.5148 - accuracy: 0.8470\n",
      "313/313 [==============================] - 0s 970us/step - loss: 0.1487 - accuracy: 0.9568\n"
     ]
    },
    {
     "data": {
      "text/plain": [
       "[0.14873278141021729, 0.9567999839782715]"
      ]
     },
     "execution_count": 42,
     "metadata": {},
     "output_type": "execute_result"
    }
   ],
   "source": [
    "# make a neural network \n",
    "# flatten input into 1D array\n",
    "# 28X28 node layer flattened and passed on to a 100 node layer ending at a 10 node layer (having digits 0 to 9 as probabilities) \n",
    "# Dropout regularization helps stop overfitting of model by dropping neurons randomly \n",
    "# compile, fit and evaluate\n",
    "\n",
    "model_sequential = keras.Sequential([\n",
    "    keras.layers.Input(shape=(28,28)),\n",
    "    keras.layers.Flatten(),\n",
    "    keras.layers.Dense(100, activation='relu'),\n",
    "    keras.layers.Dropout(0.2),\n",
    "    keras.layers.Flatten(),\n",
    "    keras.layers.Dense(10, activation='sigmoid')\n",
    "])\n",
    "\n",
    "model_sequential.compile(optimizer='adam',\n",
    "              loss='sparse_categorical_crossentropy',\n",
    "              metrics=['accuracy'])\n",
    "\n",
    "tb_callback = tf.keras.callbacks.TensorBoard(log_dir=\"logs/\", histogram_freq=1)\n",
    "\n",
    "model_sequential.fit(x_train, y_train, epochs=1, callbacks=[tb_callback])\n",
    "\n",
    "model_sequential.evaluate(x_test, y_test)"
   ]
  },
  {
   "cell_type": "markdown",
   "metadata": {},
   "source": [
    "# Functional API"
   ]
  },
  {
   "cell_type": "code",
   "execution_count": 43,
   "metadata": {},
   "outputs": [
    {
     "name": "stdout",
     "output_type": "stream",
     "text": [
      "1875/1875 [==============================] - 10s 5ms/step - loss: 0.3678 - accuracy: 0.8919\n",
      "313/313 [==============================] - 0s 1ms/step - loss: 0.1077 - accuracy: 0.9670\n"
     ]
    },
    {
     "data": {
      "text/plain": [
       "[0.10774016380310059, 0.9670000076293945]"
      ]
     },
     "execution_count": 43,
     "metadata": {},
     "output_type": "execute_result"
    }
   ],
   "source": [
    "\n",
    "inputs = keras.layers.Input(shape=(28,28))\n",
    "x = keras.layers.Flatten()(inputs)\n",
    "x = keras.layers.Dense(512, activation=\"relu\")(x)\n",
    "x = keras.layers.Dropout(0.2)(x)\n",
    "x = keras.layers.Flatten()(x)\n",
    "outputs = keras.layers.Dense(10, activation=\"sigmoid\")(x)\n",
    "\n",
    "model_functional = keras.Model(inputs=inputs, outputs=outputs)\n",
    "\n",
    "model_functional.compile(optimizer='adam',\n",
    "              loss='sparse_categorical_crossentropy',\n",
    "              metrics=['accuracy'])\n",
    "\n",
    "tb_callback = tf.keras.callbacks.TensorBoard(log_dir=\"logs/\", histogram_freq=1)\n",
    "\n",
    "model_functional.fit(x_train, y_train, epochs=1, callbacks=[tb_callback])\n",
    "\n",
    "model_functional.evaluate(x_test, y_test)"
   ]
  },
  {
   "cell_type": "code",
   "execution_count": 63,
   "metadata": {},
   "outputs": [],
   "source": [
    "# Load tensorboard\n",
    "\n",
    "# %load_ext tensorboard\n",
    "# %tensorboard --logdir logs/fit"
   ]
  },
  {
   "cell_type": "code",
   "execution_count": 46,
   "metadata": {},
   "outputs": [
    {
     "data": {
      "text/plain": [
       "7"
      ]
     },
     "execution_count": 46,
     "metadata": {},
     "output_type": "execute_result"
    },
    {
     "data": {
      "image/png": "[encoded data removed]",
      "text/plain": [
       "<Figure size 288x288 with 1 Axes>"
      ]
     },
     "metadata": {
      "needs_background": "light"
     },
     "output_type": "display_data"
    }
   ],
   "source": [
    "# store predictions\n",
    "# digits 0 to 9 are as probabilities, argmax is used to give index of max probability of an array\n",
    "y_predict = model_functional.predict(x_test)\n",
    "\n",
    "y_predict_labels = [np.argmax(i) for i in y_predict]\n",
    "\n",
    "plt.matshow(x_test[0])\n",
    "y_predict_labels[0]"
   ]
  },
  {
   "cell_type": "code",
   "execution_count": 47,
   "metadata": {},
   "outputs": [
    {
     "data": {
      "text/plain": [
       "<tf.Tensor: shape=(10, 10), dtype=int32, numpy=\n",
       "array([[ 966,    0,    0,    1,    2,    3,    2,    1,    3,    2],\n",
       "       [   0, 1118,    3,    1,    0,    1,    5,    1,    6,    0],\n",
       "       [   6,    0,  986,    8,    7,    1,    2,    8,   13,    1],\n",
       "       [   0,    0,    6,  978,    0,    4,    0,    5,    7,   10],\n",
       "       [   0,    0,    2,    0,  974,    0,    2,    0,    0,    4],\n",
       "       [   3,    0,    0,    8,    3,  858,    7,    1,    5,    7],\n",
       "       [   6,    3,    1,    1,    9,    7,  929,    0,    2,    0],\n",
       "       [   1,    4,   10,    1,    5,    0,    0,  975,    3,   29],\n",
       "       [   4,    0,    1,    6,   10,    5,    6,    5,  930,    7],\n",
       "       [   3,    4,    0,    6,   28,    4,    0,    3,    5,  956]])>"
      ]
     },
     "execution_count": 47,
     "metadata": {},
     "output_type": "execute_result"
    }
   ],
   "source": [
    "# confusuion matrix\n",
    "\n",
    "cm = tf.math.confusion_matrix(labels=y_test,predictions=y_predict_labels)\n",
    "cm"
   ]
  },
  {
   "cell_type": "code",
   "execution_count": 49,
   "metadata": {},
   "outputs": [
    {
     "name": "stdout",
     "output_type": "stream",
     "text": [
      "              precision    recall  f1-score   support\n",
      "\n",
      "           0       0.98      0.99      0.98       980\n",
      "           1       0.99      0.99      0.99      1135\n",
      "           2       0.98      0.96      0.97      1032\n",
      "           3       0.97      0.97      0.97      1010\n",
      "           4       0.94      0.99      0.96       982\n",
      "           5       0.97      0.96      0.97       892\n",
      "           6       0.97      0.97      0.97       958\n",
      "           7       0.98      0.95      0.96      1028\n",
      "           8       0.95      0.95      0.95       974\n",
      "           9       0.94      0.95      0.94      1009\n",
      "\n",
      "    accuracy                           0.97     10000\n",
      "   macro avg       0.97      0.97      0.97     10000\n",
      "weighted avg       0.97      0.97      0.97     10000\n",
      "\n",
      "Model: \"model_7\"\n",
      "_________________________________________________________________\n",
      "Layer (type)                 Output Shape              Param #   \n",
      "=================================================================\n",
      "input_11 (InputLayer)        [(None, 28, 28)]          0         \n",
      "_________________________________________________________________\n",
      "flatten_30 (Flatten)         (None, 784)               0         \n",
      "_________________________________________________________________\n",
      "dense_29 (Dense)             (None, 512)               401920    \n",
      "_________________________________________________________________\n",
      "dropout_14 (Dropout)         (None, 512)               0         \n",
      "_________________________________________________________________\n",
      "flatten_31 (Flatten)         (None, 512)               0         \n",
      "_________________________________________________________________\n",
      "dense_30 (Dense)             (None, 10)                5130      \n",
      "=================================================================\n",
      "Total params: 407,050\n",
      "Trainable params: 407,050\n",
      "Non-trainable params: 0\n",
      "_________________________________________________________________\n"
     ]
    }
   ],
   "source": [
    "# f1 score\n",
    "\n",
    "from sklearn.metrics import confusion_matrix , classification_report\n",
    "print(classification_report(y_test, y_predict_labels))\n",
    "\n",
    "# Layers of the model\n",
    "model_functional.summary()"
   ]
  },
  {
   "cell_type": "code",
   "execution_count": null,
   "metadata": {},
   "outputs": [],
   "source": []
  }
 ],
 "metadata": {
  "kernelspec": {
   "display_name": "Python 3",
   "language": "python",
   "name": "python3"
  },
  "language_info": {
   "codemirror_mode": {
    "name": "ipython",
    "version": 3
   },
   "file_extension": ".py",
   "mimetype": "text/x-python",
   "name": "python",
   "nbconvert_exporter": "python",
   "pygments_lexer": "ipython3",
   "version": "3.8.3"
  }
 },
 "nbformat": 4,
 "nbformat_minor": 4
}
